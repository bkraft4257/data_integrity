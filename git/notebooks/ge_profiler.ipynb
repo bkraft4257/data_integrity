{
 "cells": [
  {
   "cell_type": "markdown",
   "metadata": {},
   "source": [
    "# Purpose"
   ]
  },
  {
   "cell_type": "markdown",
   "metadata": {},
   "source": [
    "https://www.cms.gov/Research-Statistics-Data-and-Systems/Downloadable-Public-Use-Files/BSAPUFS/Carrier_Line_Items\n",
    "https://www.cms.gov/Research-Statistics-Data-and-Systems/Downloadable-Public-Use-Files/BSAPUFS/Downloads/2010_Carrier_Data_Dictionary.pdf"
   ]
  },
  {
   "cell_type": "markdown",
   "metadata": {},
   "source": [
    "https://docs.greatexpectations.io/en/latest/how_to_guides/creating_and_editing_expectations/how_to_quickly_explore_data_using_expectations_in_a_notebook.html"
   ]
  },
  {
   "cell_type": "code",
   "execution_count": 1,
   "metadata": {},
   "outputs": [],
   "source": [
    "# Initialize"
   ]
  },
  {
   "cell_type": "code",
   "execution_count": 20,
   "metadata": {
    "collapsed": false,
    "jupyter": {
     "outputs_hidden": false
    },
    "pycharm": {
     "name": "#%%\n"
    }
   },
   "outputs": [
    {
     "data": {
      "text/html": [
       "<style>.container { width:80% !important; }</style>"
      ],
      "text/plain": [
       "<IPython.core.display.HTML object>"
      ]
     },
     "metadata": {},
     "output_type": "display_data"
    },
    {
     "name": "stdout",
     "output_type": "stream",
     "text": [
      "The autoreload extension is already loaded. To reload it, use:\n",
      "  %reload_ext autoreload\n"
     ]
    }
   ],
   "source": [
    "%run jpinit.ipynb\n",
    "\n",
    "import great_expectations as ge\n",
    "import datetime"
   ]
  },
  {
   "cell_type": "markdown",
   "metadata": {},
   "source": [
    "# Load Data"
   ]
  },
  {
   "cell_type": "code",
   "execution_count": 23,
   "metadata": {},
   "outputs": [],
   "source": [
    "df_raw = ge.read_csv('/Users/bkraft/projects/data_integrity/data/medicare/bsa_carrier_line/2010_BSA_Carrier_PUF.csv')"
   ]
  },
  {
   "cell_type": "code",
   "execution_count": 49,
   "metadata": {},
   "outputs": [
    {
     "data": {
      "text/plain": [
       "99214    3.769765e-02\n",
       "99213    3.721579e-02\n",
       "A0425    1.762883e-02\n",
       "88305    1.628285e-02\n",
       "99203    1.618076e-02\n",
       "             ...     \n",
       "45020    3.569312e-07\n",
       "27403    3.569312e-07\n",
       "51992    3.569312e-07\n",
       "50785    3.569312e-07\n",
       "93024    3.569312e-07\n",
       "Name: CAR_LINE_HCPCS_CD, Length: 4900, dtype: float64"
      ]
     },
     "execution_count": 49,
     "metadata": {},
     "output_type": "execute_result"
    }
   ],
   "source": [
    "df_raw.CAR_LINE_HCPCS_CD.value_counts(normalize=True)"
   ]
  },
  {
   "cell_type": "code",
   "execution_count": 47,
   "metadata": {},
   "outputs": [
    {
     "data": {
      "text/plain": [
       "M1B    1.050716e-01\n",
       "T1H    9.279213e-02\n",
       "P6C    4.518821e-02\n",
       "M2B    4.292527e-02\n",
       "M1A    4.194799e-02\n",
       "           ...     \n",
       "P5D    9.280212e-05\n",
       "P2C    7.674022e-05\n",
       "P9B    1.177873e-05\n",
       "O1F    6.424762e-06\n",
       "M5A    3.569312e-07\n",
       "Name: CAR_LINE_BETOS_CD, Length: 98, dtype: float64"
      ]
     },
     "execution_count": 47,
     "metadata": {},
     "output_type": "execute_result"
    }
   ],
   "source": [
    "df_raw.CAR_LINE_BETOS_CD.value_counts(normalize=True)"
   ]
  },
  {
   "cell_type": "code",
   "execution_count": 48,
   "metadata": {},
   "outputs": [
    {
     "data": {
      "text/plain": [
       "1    0.721387\n",
       "0    0.107709\n",
       "5    0.104827\n",
       "7    0.038281\n",
       "3    0.027411\n",
       "8    0.000385\n",
       "Name: CAR_LINE_PRVDR_TYPE_CD, dtype: float64"
      ]
     },
     "execution_count": 48,
     "metadata": {},
     "output_type": "execute_result"
    }
   ],
   "source": [
    "df_raw.CAR_LINE_PRVDR_TYPE_CD.value_counts(normalize=True)"
   ]
  },
  {
   "cell_type": "markdown",
   "metadata": {},
   "source": [
    "# Pandas Profiler"
   ]
  },
  {
   "cell_type": "code",
   "execution_count": 5,
   "metadata": {},
   "outputs": [],
   "source": [
    "from great_expectations import profile as p"
   ]
  },
  {
   "cell_type": "code",
   "execution_count": 24,
   "metadata": {},
   "outputs": [],
   "source": [
    "context = ge.data_context.DataContext()"
   ]
  },
  {
   "cell_type": "code",
   "execution_count": 26,
   "metadata": {},
   "outputs": [],
   "source": [
    "context.get_expectation_suite('2010_BSA_Carrier_PUF.warning');"
   ]
  },
  {
   "cell_type": "markdown",
   "metadata": {},
   "source": [
    "### Generate Basic Profile Suite"
   ]
  },
  {
   "cell_type": "code",
   "execution_count": 27,
   "metadata": {
    "collapsed": false,
    "jupyter": {
     "outputs_hidden": false
    },
    "pycharm": {
     "name": "#%%\n"
    }
   },
   "outputs": [],
   "source": [
    "dataset = df_raw.copy()\n",
    "\n",
    "suite, validation_result = p.BasicSuiteBuilderProfiler().profile(dataset)\n",
    "suite.expectation_suite_name = 'basic_profiler'"
   ]
  },
  {
   "cell_type": "code",
   "execution_count": 28,
   "metadata": {},
   "outputs": [],
   "source": [
    "dataset.validate(expectation_suite=suite);"
   ]
  },
  {
   "cell_type": "code",
   "execution_count": 31,
   "metadata": {},
   "outputs": [],
   "source": [
    "dataset.save_expectation_suite(filepath='/Users/bkraft/projects/data_integrity/git/great_expectations/expectations/2010_BSA_Carrier_PUF/basic_profiler.json')"
   ]
  },
  {
   "cell_type": "markdown",
   "metadata": {},
   "source": [
    "# Create batch_kwargs"
   ]
  },
  {
   "cell_type": "code",
   "execution_count": 32,
   "metadata": {},
   "outputs": [],
   "source": [
    "batch_kwargs = {\n",
    "          \"data_asset_name\": \"2010_BSA_Carrier_PUF.csv\",\n",
    "          \"datasource\": \"bsa_carrier_line__dir\",\n",
    "          \"path\": \"/Users/bkraft/projects/data_integrity/data/medicare/bsa_carrier_line/2010_BSA_Carrier_PUF.csv\"\n",
    "}"
   ]
  },
  {
   "cell_type": "code",
   "execution_count": 36,
   "metadata": {},
   "outputs": [
    {
     "data": {
      "text/plain": [
       "['2010_BSA_Carrier_PUF.basic_profiler', '2010_BSA_Carrier_PUF.warning']"
      ]
     },
     "execution_count": 36,
     "metadata": {},
     "output_type": "execute_result"
    }
   ],
   "source": [
    "context.list_expectation_suite_names()"
   ]
  },
  {
   "cell_type": "code",
   "execution_count": 37,
   "metadata": {},
   "outputs": [],
   "source": [
    "suite_basic_profile = context.get_expectation_suite('2010_BSA_Carrier_PUF.basic_profiler')"
   ]
  },
  {
   "cell_type": "code",
   "execution_count": 38,
   "metadata": {},
   "outputs": [],
   "source": [
    "batch = context.get_batch(batch_kwargs, suite_basic_profile)"
   ]
  },
  {
   "cell_type": "code",
   "execution_count": 39,
   "metadata": {},
   "outputs": [],
   "source": [
    "validation_result = batch.validate(result_format='COMPLETE')\n",
    "\n",
    "now = datetime.datetime.now(datetime.timezone.utc)\n",
    "\n",
    "run_id = {\n",
    "  \"run_name\": \"basic profile\",  # insert your own run_name here\n",
    "  \"run_time\": datetime.datetime.now(datetime.timezone.utc)\n",
    "}"
   ]
  },
  {
   "cell_type": "code",
   "execution_count": 40,
   "metadata": {},
   "outputs": [],
   "source": [
    "results = context.run_validation_operator(\"action_list_operator\", assets_to_validate=[batch], run_id=run_id)\n",
    "validation_result_identifier = results.list_validation_result_identifiers()[0]"
   ]
  },
  {
   "cell_type": "code",
   "execution_count": null,
   "metadata": {},
   "outputs": [],
   "source": []
  }
 ],
 "metadata": {
  "kernelspec": {
   "display_name": "PyCharm (data_integrity)",
   "language": "python",
   "name": "pycharm-77d6af91"
  },
  "language_info": {
   "codemirror_mode": {
    "name": "ipython",
    "version": 3
   },
   "file_extension": ".py",
   "mimetype": "text/x-python",
   "name": "python",
   "nbconvert_exporter": "python",
   "pygments_lexer": "ipython3",
   "version": "3.8.3"
  }
 },
 "nbformat": 4,
 "nbformat_minor": 4
}
